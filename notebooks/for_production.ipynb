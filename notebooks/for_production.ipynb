{
 "cells": [
  {
   "cell_type": "code",
   "execution_count": 1,
   "metadata": {},
   "outputs": [],
   "source": [
    "import pandas as pd\n",
    "import numpy as np\n",
    "import matplotlib.pyplot as plt \n",
    "import plotly.express as px\n",
    "import numpy as np\n",
    "import seaborn as sns\n",
    "import pathlib\n",
    "import os\n",
    "import warnings"
   ]
  },
  {
   "cell_type": "code",
   "execution_count": 2,
   "metadata": {},
   "outputs": [],
   "source": [
    "df_train = pd.read_csv(\"E://IUB//Explainable-AI-Fraud-Detection//data//interim//train_data.csv\")\n",
    "df_test = pd.read_csv(\"E://IUB//Explainable-AI-Fraud-Detection//data//interim//train_data.csv\")\n",
    "df_validate= pd.read_csv(\"E://IUB//Explainable-AI-Fraud-Detection//data//interim//train_data.csv\")"
   ]
  },
  {
   "cell_type": "code",
   "execution_count": 5,
   "metadata": {},
   "outputs": [
    {
     "name": "stdout",
     "output_type": "stream",
     "text": [
      "Loan Category : ['Consolidation' 'Other ' 'Credit Card' 'Home' 'Business' 'Medical '\n",
      " 'Car ']\n",
      "Employmet type : ['Salaried' 'missing' 'Self - Employeed']\n",
      "Tier of Employment : ['C' 'Z' 'B' 'A' 'D' 'E' 'F' 'G']\n",
      "Work Experience : ['0' '5-10' '<1' '10+' '2-3' '3-5' '1-2']\n",
      "Gender : ['Male' 'Female' 'Other']\n",
      "Married : ['No' 'missing' 'Yes']\n",
      "Home : ['mortgage' 'rent' 'own' 'none' 'other']\n",
      "Social Profile : ['Yes' 'No' 'missing']\n",
      "Is_verified : ['Not Verified' 'Verified' 'missing' 'Source Verified']\n"
     ]
    }
   ],
   "source": [
    "df = df_train\n",
    "\n",
    "for col in df.columns:\n",
    "        if df[col].dtype == 'object':\n",
    "\n",
    "            print(col, ':', df[col].unique())"
   ]
  },
  {
   "cell_type": "code",
   "execution_count": null,
   "metadata": {},
   "outputs": [],
   "source": []
  }
 ],
 "metadata": {
  "kernelspec": {
   "display_name": "base",
   "language": "python",
   "name": "python3"
  },
  "language_info": {
   "codemirror_mode": {
    "name": "ipython",
    "version": 3
   },
   "file_extension": ".py",
   "mimetype": "text/x-python",
   "name": "python",
   "nbconvert_exporter": "python",
   "pygments_lexer": "ipython3",
   "version": "3.12.0"
  }
 },
 "nbformat": 4,
 "nbformat_minor": 2
}
